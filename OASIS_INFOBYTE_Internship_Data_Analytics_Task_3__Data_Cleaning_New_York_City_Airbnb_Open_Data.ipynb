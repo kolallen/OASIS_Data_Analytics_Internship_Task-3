{
  "nbformat": 4,
  "nbformat_minor": 0,
  "metadata": {
    "colab": {
      "provenance": [],
      "authorship_tag": "ABX9TyO3bE2lSXfJy/0NTsy9UIaK",
      "include_colab_link": true
    },
    "kernelspec": {
      "name": "python3",
      "display_name": "Python 3"
    },
    "language_info": {
      "name": "python"
    }
  },
  "cells": [
    {
      "cell_type": "markdown",
      "metadata": {
        "id": "view-in-github",
        "colab_type": "text"
      },
      "source": [
        "<a href=\"https://colab.research.google.com/github/kolallen/OASIS_Data_Analytics_Internship_Task-3/blob/main/OASIS_INFOBYTE_Internship_Data_Analytics_Task_3__Data_Cleaning_New_York_City_Airbnb_Open_Data.ipynb\" target=\"_parent\"><img src=\"https://colab.research.google.com/assets/colab-badge.svg\" alt=\"Open In Colab\"/></a>"
      ]
    },
    {
      "cell_type": "code",
      "execution_count": null,
      "metadata": {
        "id": "n-JKyPlMgVAa",
        "colab": {
          "base_uri": "https://localhost:8080/"
        },
        "outputId": "8a8e7084-6d11-404b-d434-c4927750a76a"
      },
      "outputs": [
        {
          "output_type": "stream",
          "name": "stdout",
          "text": [
            "     id                                              name  host_id  \\\n",
            "0  2539                Clean & quiet apt home by the park     2787   \n",
            "1  2595                             Skylit Midtown Castle     2845   \n",
            "2  3647               THE VILLAGE OF HARLEM....NEW YORK !     4632   \n",
            "3  3831                   Cozy Entire Floor of Brownstone     4869   \n",
            "4  5022  Entire Apt: Spacious Studio/Loft by central park     7192   \n",
            "\n",
            "     host_name neighbourhood_group neighbourhood  latitude  longitude  \\\n",
            "0         John            Brooklyn    Kensington  40.64749  -73.97237   \n",
            "1     Jennifer           Manhattan       Midtown  40.75362  -73.98377   \n",
            "2    Elisabeth           Manhattan        Harlem  40.80902  -73.94190   \n",
            "3  LisaRoxanne            Brooklyn  Clinton Hill  40.68514  -73.95976   \n",
            "4        Laura           Manhattan   East Harlem  40.79851  -73.94399   \n",
            "\n",
            "         room_type  price  minimum_nights  number_of_reviews last_review  \\\n",
            "0     Private room    149               1                  9  2018-10-19   \n",
            "1  Entire home/apt    225               1                 45  2019-05-21   \n",
            "2     Private room    150               3                  0         NaN   \n",
            "3  Entire home/apt     89               1                270  2019-07-05   \n",
            "4  Entire home/apt     80              10                  9  2018-11-19   \n",
            "\n",
            "   reviews_per_month  calculated_host_listings_count  availability_365  \n",
            "0               0.21                               6               365  \n",
            "1               0.38                               2               355  \n",
            "2                NaN                               1               365  \n",
            "3               4.64                               1               194  \n",
            "4               0.10                               1                 0  \n"
          ]
        }
      ],
      "source": [
        "import pandas as pd\n",
        "\n",
        "# Load the dataset from a CSV file\n",
        "df = pd.read_csv('AB_NYC_2019.csv')\n",
        "\n",
        "# Display the first few rows of the dataframe\n",
        "print(df.head())"
      ]
    },
    {
      "cell_type": "code",
      "source": [
        "from sklearn.preprocessing import StandardScaler\n",
        "import numpy as np\n",
        "from scipy import stats"
      ],
      "metadata": {
        "id": "wixn911nj3zB"
      },
      "execution_count": null,
      "outputs": []
    },
    {
      "cell_type": "code",
      "source": [
        "def clean_dataset(df):\n",
        "    # Data Integrity: Ensure column names are consistent\n",
        "    df.columns = [col.strip().lower() for col in df.columns]\n",
        "\n",
        "    # Missing Data Handling: Impute missing values or drop rows/columns\n",
        "    # Instead of replacing the entire DataFrame, fill or drop NaNs\n",
        "    df = df.fillna(method='ffill')  # Example: forward fill missing values\n",
        "    # df = df.dropna()  # Alternative: drop rows with missing values\n",
        "\n",
        "    # Duplicate Removal: Drop duplicate rows\n",
        "    df = df.drop_duplicates()\n",
        "\n",
        "    # Standardization: Scale numeric columns\n",
        "    numeric_cols = df.select_dtypes(include=[np.number]).columns\n",
        "    scaler = StandardScaler()\n",
        "    df[numeric_cols] = scaler.fit_transform(df[numeric_cols])\n",
        "\n",
        "    # Outlier Detection: Remove outliers using Z-score method\n",
        "    df = df[(np.abs(stats.zscore(df[numeric_cols])) < 3).all(axis=1)]\n",
        "\n",
        "    return df"
      ],
      "metadata": {
        "id": "8JPTKM3ikmhY"
      },
      "execution_count": null,
      "outputs": []
    },
    {
      "cell_type": "code",
      "source": [
        "# Apply the cleaning function to the dataset\n",
        "cleaned_df = clean_dataset(df)\n",
        "\n",
        "# Display the first few rows of the cleaned dataframe\n",
        "print(cleaned_df.head())"
      ],
      "metadata": {
        "id": "UFQRHinWkxTW",
        "colab": {
          "base_uri": "https://localhost:8080/"
        },
        "outputId": "e75ce295-cab7-4c95-e18b-ababdc4a977e"
      },
      "execution_count": null,
      "outputs": [
        {
          "output_type": "stream",
          "name": "stdout",
          "text": [
            "         id                                              name   host_id  \\\n",
            "0 -1.731277                Clean & quiet apt home by the park -0.860159   \n",
            "1 -1.731272                             Skylit Midtown Castle -0.860158   \n",
            "2 -1.731176               THE VILLAGE OF HARLEM....NEW YORK ! -0.860135   \n",
            "4 -1.731051  Entire Apt: Spacious Studio/Loft by central park -0.860103   \n",
            "5 -1.731044         Large Cozy 1 BR Apartment In Midtown East -0.860101   \n",
            "\n",
            "   host_name neighbourhood_group neighbourhood  latitude  longitude  \\\n",
            "0       John            Brooklyn    Kensington -1.493849  -0.437652   \n",
            "1   Jennifer           Manhattan       Midtown  0.452436  -0.684639   \n",
            "2  Elisabeth           Manhattan        Harlem  1.468399   0.222497   \n",
            "4      Laura           Manhattan   East Harlem  1.275660   0.177216   \n",
            "5      Chris           Manhattan   Murray Hill  0.343321  -0.494632   \n",
            "\n",
            "         room_type     price  minimum_nights  number_of_reviews last_review  \\\n",
            "0     Private room -0.015493       -0.293996          -0.320414  2018-10-19   \n",
            "1  Entire home/apt  0.300974       -0.293996           0.487665  2019-05-21   \n",
            "2     Private room -0.011329       -0.196484          -0.522433  2019-05-21   \n",
            "4  Entire home/apt -0.302811        0.144807          -0.320414  2018-11-19   \n",
            "5  Entire home/apt  0.196873       -0.196484           1.138617  2019-06-22   \n",
            "\n",
            "   reviews_per_month  calculated_host_listings_count  availability_365  \n",
            "0          -0.705289                       -0.034716          1.916250  \n",
            "1          -0.604178                       -0.156104          1.840275  \n",
            "2          -0.604178                       -0.186451          1.916250  \n",
            "4          -0.770715                       -0.186451         -0.856865  \n",
            "5          -0.479275                       -0.186451          0.123223  \n"
          ]
        }
      ]
    },
    {
      "cell_type": "code",
      "source": [
        "# Save the cleaned dataset back to a CSV file\n",
        "cleaned_df.to_csv('AB_NYC_2019_cleaned.csv', index=False)"
      ],
      "metadata": {
        "id": "krfLtOsGlIfs"
      },
      "execution_count": null,
      "outputs": []
    },
    {
      "cell_type": "code",
      "source": [],
      "metadata": {
        "id": "nWO_0cOdtRF8"
      },
      "execution_count": null,
      "outputs": []
    }
  ]
}